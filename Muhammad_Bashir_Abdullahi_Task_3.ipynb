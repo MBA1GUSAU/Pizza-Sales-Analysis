{
 "cells": [
  {
   "cell_type": "code",
   "execution_count": 1,
   "id": "bece4d9b-84b5-4635-8468-96a8bd56bf59",
   "metadata": {},
   "outputs": [],
   "source": [
    "import pandas as pd"
   ]
  },
  {
   "cell_type": "code",
   "execution_count": 2,
   "id": "d401fdb0-4d68-4b0c-9ebd-ea5c15626ddb",
   "metadata": {
    "scrolled": true
   },
   "outputs": [],
   "source": [
    "# File paths\n",
    "sales_folder = r\"C:\\Users\\user\\Downloads\\Pizza+Place+Sales\\pizza_sales\"\n",
    "orders = pd.read_csv(sales_folder + \"/orders.csv\",encoding=\"latin-1\")\n",
    "order_details = pd.read_csv(sales_folder + \"/order_details.csv\",encoding=\"latin-1\")\n",
    "pizzas = pd.read_csv(sales_folder + \"/pizzas.csv\",encoding=\"latin-1\")\n",
    "pizza_types = pd.read_csv(sales_folder + \"/pizza_types.csv\",encoding=\"latin-1\")\n"
   ]
  },
  {
   "cell_type": "markdown",
   "id": "86ff6d59-442b-422c-ad10-660d8fa6d683",
   "metadata": {},
   "source": [
    "### 1.\tWhat is the total revenue/sales?"
   ]
  },
  {
   "cell_type": "code",
   "execution_count": 3,
   "id": "312e1cb2-bbd5-4b84-950e-4f854e3f862f",
   "metadata": {
    "scrolled": true
   },
   "outputs": [
    {
     "data": {
      "text/html": [
       "<div>\n",
       "<style scoped>\n",
       "    .dataframe tbody tr th:only-of-type {\n",
       "        vertical-align: middle;\n",
       "    }\n",
       "\n",
       "    .dataframe tbody tr th {\n",
       "        vertical-align: top;\n",
       "    }\n",
       "\n",
       "    .dataframe thead th {\n",
       "        text-align: right;\n",
       "    }\n",
       "</style>\n",
       "<table border=\"1\" class=\"dataframe\">\n",
       "  <thead>\n",
       "    <tr style=\"text-align: right;\">\n",
       "      <th></th>\n",
       "      <th>order_details_id</th>\n",
       "      <th>order_id</th>\n",
       "      <th>pizza_id</th>\n",
       "      <th>quantity</th>\n",
       "      <th>pizza_type_id</th>\n",
       "      <th>size</th>\n",
       "      <th>price</th>\n",
       "    </tr>\n",
       "  </thead>\n",
       "  <tbody>\n",
       "    <tr>\n",
       "      <th>0</th>\n",
       "      <td>1</td>\n",
       "      <td>1</td>\n",
       "      <td>hawaiian_m</td>\n",
       "      <td>1</td>\n",
       "      <td>hawaiian</td>\n",
       "      <td>M</td>\n",
       "      <td>13.25</td>\n",
       "    </tr>\n",
       "    <tr>\n",
       "      <th>1</th>\n",
       "      <td>179</td>\n",
       "      <td>77</td>\n",
       "      <td>hawaiian_m</td>\n",
       "      <td>1</td>\n",
       "      <td>hawaiian</td>\n",
       "      <td>M</td>\n",
       "      <td>13.25</td>\n",
       "    </tr>\n",
       "    <tr>\n",
       "      <th>2</th>\n",
       "      <td>357</td>\n",
       "      <td>146</td>\n",
       "      <td>hawaiian_m</td>\n",
       "      <td>1</td>\n",
       "      <td>hawaiian</td>\n",
       "      <td>M</td>\n",
       "      <td>13.25</td>\n",
       "    </tr>\n",
       "    <tr>\n",
       "      <th>3</th>\n",
       "      <td>389</td>\n",
       "      <td>163</td>\n",
       "      <td>hawaiian_m</td>\n",
       "      <td>1</td>\n",
       "      <td>hawaiian</td>\n",
       "      <td>M</td>\n",
       "      <td>13.25</td>\n",
       "    </tr>\n",
       "    <tr>\n",
       "      <th>4</th>\n",
       "      <td>568</td>\n",
       "      <td>247</td>\n",
       "      <td>hawaiian_m</td>\n",
       "      <td>1</td>\n",
       "      <td>hawaiian</td>\n",
       "      <td>M</td>\n",
       "      <td>13.25</td>\n",
       "    </tr>\n",
       "    <tr>\n",
       "      <th>...</th>\n",
       "      <td>...</td>\n",
       "      <td>...</td>\n",
       "      <td>...</td>\n",
       "      <td>...</td>\n",
       "      <td>...</td>\n",
       "      <td>...</td>\n",
       "      <td>...</td>\n",
       "    </tr>\n",
       "    <tr>\n",
       "      <th>48615</th>\n",
       "      <td>39733</td>\n",
       "      <td>17492</td>\n",
       "      <td>the_greek_xxl</td>\n",
       "      <td>1</td>\n",
       "      <td>the_greek</td>\n",
       "      <td>XXL</td>\n",
       "      <td>35.95</td>\n",
       "    </tr>\n",
       "    <tr>\n",
       "      <th>48616</th>\n",
       "      <td>41183</td>\n",
       "      <td>18139</td>\n",
       "      <td>the_greek_xxl</td>\n",
       "      <td>1</td>\n",
       "      <td>the_greek</td>\n",
       "      <td>XXL</td>\n",
       "      <td>35.95</td>\n",
       "    </tr>\n",
       "    <tr>\n",
       "      <th>48617</th>\n",
       "      <td>42718</td>\n",
       "      <td>18789</td>\n",
       "      <td>the_greek_xxl</td>\n",
       "      <td>1</td>\n",
       "      <td>the_greek</td>\n",
       "      <td>XXL</td>\n",
       "      <td>35.95</td>\n",
       "    </tr>\n",
       "    <tr>\n",
       "      <th>48618</th>\n",
       "      <td>43041</td>\n",
       "      <td>18919</td>\n",
       "      <td>the_greek_xxl</td>\n",
       "      <td>1</td>\n",
       "      <td>the_greek</td>\n",
       "      <td>XXL</td>\n",
       "      <td>35.95</td>\n",
       "    </tr>\n",
       "    <tr>\n",
       "      <th>48619</th>\n",
       "      <td>47490</td>\n",
       "      <td>20866</td>\n",
       "      <td>the_greek_xxl</td>\n",
       "      <td>1</td>\n",
       "      <td>the_greek</td>\n",
       "      <td>XXL</td>\n",
       "      <td>35.95</td>\n",
       "    </tr>\n",
       "  </tbody>\n",
       "</table>\n",
       "<p>48620 rows × 7 columns</p>\n",
       "</div>"
      ],
      "text/plain": [
       "       order_details_id  order_id       pizza_id  quantity pizza_type_id size  \\\n",
       "0                     1         1     hawaiian_m         1      hawaiian    M   \n",
       "1                   179        77     hawaiian_m         1      hawaiian    M   \n",
       "2                   357       146     hawaiian_m         1      hawaiian    M   \n",
       "3                   389       163     hawaiian_m         1      hawaiian    M   \n",
       "4                   568       247     hawaiian_m         1      hawaiian    M   \n",
       "...                 ...       ...            ...       ...           ...  ...   \n",
       "48615             39733     17492  the_greek_xxl         1     the_greek  XXL   \n",
       "48616             41183     18139  the_greek_xxl         1     the_greek  XXL   \n",
       "48617             42718     18789  the_greek_xxl         1     the_greek  XXL   \n",
       "48618             43041     18919  the_greek_xxl         1     the_greek  XXL   \n",
       "48619             47490     20866  the_greek_xxl         1     the_greek  XXL   \n",
       "\n",
       "       price  \n",
       "0      13.25  \n",
       "1      13.25  \n",
       "2      13.25  \n",
       "3      13.25  \n",
       "4      13.25  \n",
       "...      ...  \n",
       "48615  35.95  \n",
       "48616  35.95  \n",
       "48617  35.95  \n",
       "48618  35.95  \n",
       "48619  35.95  \n",
       "\n",
       "[48620 rows x 7 columns]"
      ]
     },
     "execution_count": 3,
     "metadata": {},
     "output_type": "execute_result"
    }
   ],
   "source": [
    "details_with_price = order_details.merge(pizzas, on = \"pizza_id\")\n",
    "details_with_price"
   ]
  },
  {
   "cell_type": "code",
   "execution_count": 4,
   "id": "d69a5716-e6da-47bc-b5df-6c700107cfcc",
   "metadata": {},
   "outputs": [],
   "source": [
    "details_with_price[\"revenue\"]=details_with_price[\"quantity\"]*details_with_price[\"price\"]"
   ]
  },
  {
   "cell_type": "code",
   "execution_count": 5,
   "id": "3ae5a21b-e450-4938-bba0-6d877407610d",
   "metadata": {
    "scrolled": true
   },
   "outputs": [
    {
     "data": {
      "text/html": [
       "<div>\n",
       "<style scoped>\n",
       "    .dataframe tbody tr th:only-of-type {\n",
       "        vertical-align: middle;\n",
       "    }\n",
       "\n",
       "    .dataframe tbody tr th {\n",
       "        vertical-align: top;\n",
       "    }\n",
       "\n",
       "    .dataframe thead th {\n",
       "        text-align: right;\n",
       "    }\n",
       "</style>\n",
       "<table border=\"1\" class=\"dataframe\">\n",
       "  <thead>\n",
       "    <tr style=\"text-align: right;\">\n",
       "      <th></th>\n",
       "      <th>order_details_id</th>\n",
       "      <th>order_id</th>\n",
       "      <th>pizza_id</th>\n",
       "      <th>quantity</th>\n",
       "      <th>pizza_type_id</th>\n",
       "      <th>size</th>\n",
       "      <th>price</th>\n",
       "      <th>revenue</th>\n",
       "    </tr>\n",
       "  </thead>\n",
       "  <tbody>\n",
       "    <tr>\n",
       "      <th>0</th>\n",
       "      <td>1</td>\n",
       "      <td>1</td>\n",
       "      <td>hawaiian_m</td>\n",
       "      <td>1</td>\n",
       "      <td>hawaiian</td>\n",
       "      <td>M</td>\n",
       "      <td>13.25</td>\n",
       "      <td>13.25</td>\n",
       "    </tr>\n",
       "    <tr>\n",
       "      <th>1</th>\n",
       "      <td>179</td>\n",
       "      <td>77</td>\n",
       "      <td>hawaiian_m</td>\n",
       "      <td>1</td>\n",
       "      <td>hawaiian</td>\n",
       "      <td>M</td>\n",
       "      <td>13.25</td>\n",
       "      <td>13.25</td>\n",
       "    </tr>\n",
       "    <tr>\n",
       "      <th>2</th>\n",
       "      <td>357</td>\n",
       "      <td>146</td>\n",
       "      <td>hawaiian_m</td>\n",
       "      <td>1</td>\n",
       "      <td>hawaiian</td>\n",
       "      <td>M</td>\n",
       "      <td>13.25</td>\n",
       "      <td>13.25</td>\n",
       "    </tr>\n",
       "    <tr>\n",
       "      <th>3</th>\n",
       "      <td>389</td>\n",
       "      <td>163</td>\n",
       "      <td>hawaiian_m</td>\n",
       "      <td>1</td>\n",
       "      <td>hawaiian</td>\n",
       "      <td>M</td>\n",
       "      <td>13.25</td>\n",
       "      <td>13.25</td>\n",
       "    </tr>\n",
       "    <tr>\n",
       "      <th>4</th>\n",
       "      <td>568</td>\n",
       "      <td>247</td>\n",
       "      <td>hawaiian_m</td>\n",
       "      <td>1</td>\n",
       "      <td>hawaiian</td>\n",
       "      <td>M</td>\n",
       "      <td>13.25</td>\n",
       "      <td>13.25</td>\n",
       "    </tr>\n",
       "    <tr>\n",
       "      <th>...</th>\n",
       "      <td>...</td>\n",
       "      <td>...</td>\n",
       "      <td>...</td>\n",
       "      <td>...</td>\n",
       "      <td>...</td>\n",
       "      <td>...</td>\n",
       "      <td>...</td>\n",
       "      <td>...</td>\n",
       "    </tr>\n",
       "    <tr>\n",
       "      <th>48615</th>\n",
       "      <td>39733</td>\n",
       "      <td>17492</td>\n",
       "      <td>the_greek_xxl</td>\n",
       "      <td>1</td>\n",
       "      <td>the_greek</td>\n",
       "      <td>XXL</td>\n",
       "      <td>35.95</td>\n",
       "      <td>35.95</td>\n",
       "    </tr>\n",
       "    <tr>\n",
       "      <th>48616</th>\n",
       "      <td>41183</td>\n",
       "      <td>18139</td>\n",
       "      <td>the_greek_xxl</td>\n",
       "      <td>1</td>\n",
       "      <td>the_greek</td>\n",
       "      <td>XXL</td>\n",
       "      <td>35.95</td>\n",
       "      <td>35.95</td>\n",
       "    </tr>\n",
       "    <tr>\n",
       "      <th>48617</th>\n",
       "      <td>42718</td>\n",
       "      <td>18789</td>\n",
       "      <td>the_greek_xxl</td>\n",
       "      <td>1</td>\n",
       "      <td>the_greek</td>\n",
       "      <td>XXL</td>\n",
       "      <td>35.95</td>\n",
       "      <td>35.95</td>\n",
       "    </tr>\n",
       "    <tr>\n",
       "      <th>48618</th>\n",
       "      <td>43041</td>\n",
       "      <td>18919</td>\n",
       "      <td>the_greek_xxl</td>\n",
       "      <td>1</td>\n",
       "      <td>the_greek</td>\n",
       "      <td>XXL</td>\n",
       "      <td>35.95</td>\n",
       "      <td>35.95</td>\n",
       "    </tr>\n",
       "    <tr>\n",
       "      <th>48619</th>\n",
       "      <td>47490</td>\n",
       "      <td>20866</td>\n",
       "      <td>the_greek_xxl</td>\n",
       "      <td>1</td>\n",
       "      <td>the_greek</td>\n",
       "      <td>XXL</td>\n",
       "      <td>35.95</td>\n",
       "      <td>35.95</td>\n",
       "    </tr>\n",
       "  </tbody>\n",
       "</table>\n",
       "<p>48620 rows × 8 columns</p>\n",
       "</div>"
      ],
      "text/plain": [
       "       order_details_id  order_id       pizza_id  quantity pizza_type_id size  \\\n",
       "0                     1         1     hawaiian_m         1      hawaiian    M   \n",
       "1                   179        77     hawaiian_m         1      hawaiian    M   \n",
       "2                   357       146     hawaiian_m         1      hawaiian    M   \n",
       "3                   389       163     hawaiian_m         1      hawaiian    M   \n",
       "4                   568       247     hawaiian_m         1      hawaiian    M   \n",
       "...                 ...       ...            ...       ...           ...  ...   \n",
       "48615             39733     17492  the_greek_xxl         1     the_greek  XXL   \n",
       "48616             41183     18139  the_greek_xxl         1     the_greek  XXL   \n",
       "48617             42718     18789  the_greek_xxl         1     the_greek  XXL   \n",
       "48618             43041     18919  the_greek_xxl         1     the_greek  XXL   \n",
       "48619             47490     20866  the_greek_xxl         1     the_greek  XXL   \n",
       "\n",
       "       price  revenue  \n",
       "0      13.25    13.25  \n",
       "1      13.25    13.25  \n",
       "2      13.25    13.25  \n",
       "3      13.25    13.25  \n",
       "4      13.25    13.25  \n",
       "...      ...      ...  \n",
       "48615  35.95    35.95  \n",
       "48616  35.95    35.95  \n",
       "48617  35.95    35.95  \n",
       "48618  35.95    35.95  \n",
       "48619  35.95    35.95  \n",
       "\n",
       "[48620 rows x 8 columns]"
      ]
     },
     "execution_count": 5,
     "metadata": {},
     "output_type": "execute_result"
    }
   ],
   "source": [
    "details_with_price"
   ]
  },
  {
   "cell_type": "code",
   "execution_count": 6,
   "id": "6a614d1e-46be-4742-b307-f15348de1f06",
   "metadata": {},
   "outputs": [
    {
     "name": "stdout",
     "output_type": "stream",
     "text": [
      "Total Revenue: ₦ 817860.05\n"
     ]
    }
   ],
   "source": [
    "total_revenue = details_with_price[\"revenue\"].sum()\n",
    "print(\"Total Revenue: ₦\",round(total_revenue,2))"
   ]
  },
  {
   "cell_type": "markdown",
   "id": "35024738-c359-4594-a2f3-4dfe919ecbaf",
   "metadata": {},
   "source": [
    "### 2.\tFind the total quantity sold."
   ]
  },
  {
   "cell_type": "code",
   "execution_count": 7,
   "id": "76f5e4f2-1c65-450c-a1ce-51ecb2c21a3e",
   "metadata": {},
   "outputs": [
    {
     "name": "stdout",
     "output_type": "stream",
     "text": [
      "Total Quantity Sold: 49574\n"
     ]
    }
   ],
   "source": [
    "total_quantity = details_with_price[\"quantity\"].sum()\n",
    "print(\"Total Quantity Sold:\", total_quantity)"
   ]
  },
  {
   "cell_type": "markdown",
   "id": "31535db2-59dc-4ba9-8451-a78e38825188",
   "metadata": {},
   "source": [
    "### 3.\tFind the total orders"
   ]
  },
  {
   "cell_type": "code",
   "execution_count": 8,
   "id": "75f63127-d867-459c-a75c-50aeec89ba0b",
   "metadata": {},
   "outputs": [
    {
     "name": "stdout",
     "output_type": "stream",
     "text": [
      "Total Orders:  21350\n"
     ]
    }
   ],
   "source": [
    "total_orders = orders[\"order_id\"].nunique()\n",
    "print(\"Total Orders: \", total_orders)"
   ]
  },
  {
   "cell_type": "markdown",
   "id": "87f1d4d8-3e35-43f4-a37c-adcfc9f1a6a2",
   "metadata": {},
   "source": [
    "### 4.\tHow many pizza types do they sell?"
   ]
  },
  {
   "cell_type": "code",
   "execution_count": 9,
   "id": "47cf984c-5f22-4dae-8be0-8056a6f607fc",
   "metadata": {},
   "outputs": [
    {
     "name": "stdout",
     "output_type": "stream",
     "text": [
      "Total Pizza Types:  32\n"
     ]
    }
   ],
   "source": [
    "pizza_types_count = pizza_types[\"pizza_type_id\"].nunique()\n",
    "print(\"Total Pizza Types: \",pizza_types_count)"
   ]
  },
  {
   "cell_type": "markdown",
   "id": "eb78a8db-dfe0-408e-8efa-114cd36d797c",
   "metadata": {},
   "source": [
    "### 5.\tFind the average price of the pizzas."
   ]
  },
  {
   "cell_type": "code",
   "execution_count": 10,
   "id": "8a30a802-debe-44ec-b3a7-fe20cfc8d25c",
   "metadata": {},
   "outputs": [
    {
     "name": "stdout",
     "output_type": "stream",
     "text": [
      "Average Pizza Price: ₦ 16.44\n"
     ]
    }
   ],
   "source": [
    "average_price_of_pizzas = pizzas[\"price\"].mean()\n",
    "print(\"Average Pizza Price: ₦\", round(average_price_of_pizzas,2))"
   ]
  },
  {
   "cell_type": "markdown",
   "id": "3722dbe0-65a6-4ae9-a191-bcd840ad4037",
   "metadata": {},
   "source": [
    "### 6.\tWhat are the peak hours of sales?"
   ]
  },
  {
   "cell_type": "code",
   "execution_count": 11,
   "id": "e65bd997-2b12-43b5-83f2-d007aa1f96da",
   "metadata": {
    "scrolled": true
   },
   "outputs": [
    {
     "data": {
      "text/html": [
       "<div>\n",
       "<style scoped>\n",
       "    .dataframe tbody tr th:only-of-type {\n",
       "        vertical-align: middle;\n",
       "    }\n",
       "\n",
       "    .dataframe tbody tr th {\n",
       "        vertical-align: top;\n",
       "    }\n",
       "\n",
       "    .dataframe thead th {\n",
       "        text-align: right;\n",
       "    }\n",
       "</style>\n",
       "<table border=\"1\" class=\"dataframe\">\n",
       "  <thead>\n",
       "    <tr style=\"text-align: right;\">\n",
       "      <th></th>\n",
       "      <th>order_id</th>\n",
       "      <th>date</th>\n",
       "      <th>time</th>\n",
       "    </tr>\n",
       "  </thead>\n",
       "  <tbody>\n",
       "    <tr>\n",
       "      <th>0</th>\n",
       "      <td>1</td>\n",
       "      <td>2015-01-01</td>\n",
       "      <td>11:38:36</td>\n",
       "    </tr>\n",
       "    <tr>\n",
       "      <th>1</th>\n",
       "      <td>2</td>\n",
       "      <td>2015-01-01</td>\n",
       "      <td>11:57:40</td>\n",
       "    </tr>\n",
       "    <tr>\n",
       "      <th>2</th>\n",
       "      <td>3</td>\n",
       "      <td>2015-01-01</td>\n",
       "      <td>12:12:28</td>\n",
       "    </tr>\n",
       "    <tr>\n",
       "      <th>3</th>\n",
       "      <td>4</td>\n",
       "      <td>2015-01-01</td>\n",
       "      <td>12:16:31</td>\n",
       "    </tr>\n",
       "    <tr>\n",
       "      <th>4</th>\n",
       "      <td>5</td>\n",
       "      <td>2015-01-01</td>\n",
       "      <td>12:21:30</td>\n",
       "    </tr>\n",
       "  </tbody>\n",
       "</table>\n",
       "</div>"
      ],
      "text/plain": [
       "   order_id        date      time\n",
       "0         1  2015-01-01  11:38:36\n",
       "1         2  2015-01-01  11:57:40\n",
       "2         3  2015-01-01  12:12:28\n",
       "3         4  2015-01-01  12:16:31\n",
       "4         5  2015-01-01  12:21:30"
      ]
     },
     "execution_count": 11,
     "metadata": {},
     "output_type": "execute_result"
    }
   ],
   "source": [
    "orders.head()"
   ]
  },
  {
   "cell_type": "code",
   "execution_count": 12,
   "id": "6678d91f-38f2-49f3-90ca-aad08212b30c",
   "metadata": {},
   "outputs": [
    {
     "data": {
      "text/plain": [
       "Index(['order_id', 'date', 'time'], dtype='object')"
      ]
     },
     "execution_count": 12,
     "metadata": {},
     "output_type": "execute_result"
    }
   ],
   "source": [
    "orders.columns"
   ]
  },
  {
   "cell_type": "code",
   "execution_count": 13,
   "id": "19044e7b-135c-4d07-856f-e3cf1a2199f4",
   "metadata": {},
   "outputs": [
    {
     "data": {
      "text/plain": [
       "Index(['order_details_id', 'order_id', 'pizza_id', 'quantity'], dtype='object')"
      ]
     },
     "execution_count": 13,
     "metadata": {},
     "output_type": "execute_result"
    }
   ],
   "source": [
    "order_details.columns"
   ]
  },
  {
   "cell_type": "code",
   "execution_count": 14,
   "id": "119bc487-5675-46ab-bd8c-ff09ba05e229",
   "metadata": {},
   "outputs": [
    {
     "data": {
      "text/plain": [
       "Index(['pizza_id', 'pizza_type_id', 'size', 'price'], dtype='object')"
      ]
     },
     "execution_count": 14,
     "metadata": {},
     "output_type": "execute_result"
    }
   ],
   "source": [
    "pizzas.columns"
   ]
  },
  {
   "cell_type": "code",
   "execution_count": 15,
   "id": "b41a1151-2ce2-417c-9607-4dbcca8f70d1",
   "metadata": {
    "scrolled": true
   },
   "outputs": [
    {
     "name": "stdout",
     "output_type": "stream",
     "text": [
      "hour\n",
      "12    111877.90\n",
      "13    106065.70\n",
      "18     89296.85\n",
      "17     86237.45\n",
      "19     72628.90\n",
      "16     70055.40\n",
      "14     59201.40\n",
      "20     58215.40\n",
      "15     52992.30\n",
      "11     44935.80\n",
      "21     42029.80\n",
      "22     22815.15\n",
      "23      1121.35\n",
      "10       303.65\n",
      "9         83.00\n",
      "Name: revenue, dtype: float64\n"
     ]
    }
   ],
   "source": [
    "# Merge orders + order details + pizzas\n",
    "orders_with_details = orders.merge(order_details, on = \"order_id\").merge(pizzas, on = \"pizza_id\")\n",
    "\n",
    "# Add revenue column\n",
    "orders_with_details[\"revenue\"] = orders_with_details[\"quantity\"]*orders_with_details[\"price\"]\n",
    "\n",
    "# Extract hour from time\n",
    "orders_with_details[\"time\"] = pd.to_datetime(orders_with_details[\"time\"], format=\"%H:%M:%S\")\n",
    "orders_with_details[\"hour\"] = orders_with_details[\"time\"].dt.hour\n",
    "\n",
    "# Group by hour and sum revenue\n",
    "revenue_per_hour = orders_with_details.groupby(\"hour\")[\"revenue\"].sum().sort_values(ascending=False)\n",
    "print(revenue_per_hour)"
   ]
  },
  {
   "cell_type": "markdown",
   "id": "df60f8eb-fc4f-4f92-b12a-50f59e7f4bd5",
   "metadata": {},
   "source": [
    "### 7.\tFind the total sales made on each day of the week. Which day of the week is when sales are made the most?"
   ]
  },
  {
   "cell_type": "code",
   "execution_count": 16,
   "id": "169eec8a-5d3f-4306-a3fc-4380a8d5e5e9",
   "metadata": {},
   "outputs": [
    {
     "name": "stdout",
     "output_type": "stream",
     "text": [
      "Day_of_week\n",
      "Monday       107329.55\n",
      "Tuesday      114133.80\n",
      "Wednesday    114408.40\n",
      "Thursday     123528.50\n",
      "Friday       136073.90\n",
      "Saturday     123182.40\n",
      "Sunday        99203.50\n",
      "Name: revenue, dtype: float64\n",
      "\n",
      "The day with highest sales is: Friday with revenue of 136073.9\n"
     ]
    }
   ],
   "source": [
    "# Convert date column to datetime\n",
    "orders_with_details[\"date\"] = pd.to_datetime(orders_with_details[\"date\"])\n",
    "\n",
    "# Extract day of the week\n",
    "orders_with_details[\"Day_of_week\"] = orders_with_details[\"date\"].dt.day_name()\n",
    "\n",
    "# Group by day of week and sum revenue\n",
    "sales_per_day = orders_with_details.groupby(\"Day_of_week\")[\"revenue\"].sum()\n",
    "\n",
    "# Reorder days of week (optional, for better readability)\n",
    "days_order = [\"Monday\", \"Tuesday\", \"Wednesday\", \"Thursday\", \"Friday\", \"Saturday\", \"Sunday\"]\n",
    "sales_per_day = sales_per_day.reindex(days_order)\n",
    "\n",
    "print(sales_per_day)\n",
    "print(\"\\nThe day with highest sales is:\", sales_per_day.idxmax(), \"with revenue of\", sales_per_day.max())\n"
   ]
  },
  {
   "cell_type": "markdown",
   "id": "8f3b8bdf-ec0c-48e6-a1bf-5348fa7310fb",
   "metadata": {},
   "source": [
    "### 8.\tFind the top 5 bestselling pizzas."
   ]
  },
  {
   "cell_type": "code",
   "execution_count": 17,
   "id": "437cb924-645e-479f-a950-d13ed17b825e",
   "metadata": {
    "scrolled": true
   },
   "outputs": [
    {
     "name": "stdout",
     "output_type": "stream",
     "text": [
      "Top 5 Bestselling Pizzas:\n",
      "pizza_id\n",
      "big_meat_s       1914\n",
      "thai_ckn_l       1410\n",
      "five_cheese_l    1409\n",
      "four_cheese_l    1316\n",
      "classic_dlx_m    1181\n",
      "Name: quantity, dtype: int64\n"
     ]
    }
   ],
   "source": [
    "# Group by pizza and sum quantities\n",
    "top_pizzas = orders_with_details.groupby(\"pizza_id\")[\"quantity\"].sum().sort_values(ascending=False).head(5)\n",
    "\n",
    "print(\"Top 5 Bestselling Pizzas:\")\n",
    "print(top_pizzas)"
   ]
  },
  {
   "cell_type": "markdown",
   "id": "c731294c-1ff9-4de2-846c-2bd2fb06fb42",
   "metadata": {},
   "source": [
    "### 9.\tFind the sales made in each month. Any trend noticeable?"
   ]
  },
  {
   "cell_type": "code",
   "execution_count": 18,
   "id": "a77529fd-1bf4-4b0a-ac3e-efa2d678354c",
   "metadata": {},
   "outputs": [
    {
     "name": "stdout",
     "output_type": "stream",
     "text": [
      "month\n",
      "January      69793.30\n",
      "February     65159.60\n",
      "March        70397.10\n",
      "April        68736.80\n",
      "May          71402.75\n",
      "June         68230.20\n",
      "July         72557.90\n",
      "August       68278.25\n",
      "September    64180.05\n",
      "October      64027.60\n",
      "November     70395.35\n",
      "December     64701.15\n",
      "Name: revenue, dtype: float64\n",
      "\n",
      "The best sales month is: July with revenue of 72557.9\n"
     ]
    }
   ],
   "source": [
    "# Extract month name\n",
    "orders_with_details[\"month\"] = orders_with_details[\"date\"].dt.month_name()\n",
    "\n",
    "# Group by month and sum revenue\n",
    "sales_per_month = orders_with_details.groupby(\"month\")[\"revenue\"].sum()\n",
    "\n",
    "# Reorder by calendar order\n",
    "month_order = [\"January\", \"February\", \"March\", \"April\", \"May\", \"June\", \n",
    "               \"July\", \"August\", \"September\", \"October\", \"November\", \"December\"]\n",
    "sales_per_month = sales_per_month.reindex(month_order)\n",
    "\n",
    "print(sales_per_month)\n",
    "print(\"\\nThe best sales month is:\", sales_per_month.idxmax(), \"with revenue of\", sales_per_month.max())\n"
   ]
  },
  {
   "cell_type": "markdown",
   "id": "8fccee82-629b-41a8-876e-f364a4b41af0",
   "metadata": {},
   "source": [
    "### 10.\tAre there pizza types that are not doing well on the menu?"
   ]
  },
  {
   "cell_type": "code",
   "execution_count": 19,
   "id": "9e7c75ff-f83b-4c2f-8112-a2eabc7258ec",
   "metadata": {},
   "outputs": [
    {
     "data": {
      "text/plain": [
       "Index(['pizza_type_id', 'name', 'category', 'ingredients'], dtype='object')"
      ]
     },
     "execution_count": 19,
     "metadata": {},
     "output_type": "execute_result"
    }
   ],
   "source": [
    "pizza_types.columns"
   ]
  },
  {
   "cell_type": "code",
   "execution_count": 20,
   "id": "45a67e2b-1fc8-443a-84a4-5d8cf9cd6b60",
   "metadata": {},
   "outputs": [
    {
     "data": {
      "text/plain": [
       "Index(['pizza_id', 'pizza_type_id', 'size', 'price'], dtype='object')"
      ]
     },
     "execution_count": 20,
     "metadata": {},
     "output_type": "execute_result"
    }
   ],
   "source": [
    "pizzas.columns"
   ]
  },
  {
   "cell_type": "code",
   "execution_count": 21,
   "id": "a43f132d-3bee-4233-bc1d-7670c41eabd0",
   "metadata": {},
   "outputs": [
    {
     "name": "stdout",
     "output_type": "stream",
     "text": [
      "Weakest Individual Pizzas (Lowest Sales):\n",
      "name\n",
      "The Brie Carre Pizza            490\n",
      "The Mediterranean Pizza         934\n",
      "The Calabrese Pizza             937\n",
      "The Spinach Supreme Pizza       950\n",
      "The Soppressata Pizza           961\n",
      "The Spinach Pesto Pizza         970\n",
      "The Chicken Pesto Pizza         973\n",
      "The Italian Vegetables Pizza    981\n",
      "The Chicken Alfredo Pizza       987\n",
      "The Green Garden Pizza          997\n",
      "Name: quantity, dtype: int64\n"
     ]
    }
   ],
   "source": [
    "# Merge orders_with_details with pizzas and pizza_types\n",
    "orders_with_pizzas = orders_with_details.merge(pizzas, on=\"pizza_id\")\n",
    "orders_with_type = orders_with_pizzas.merge(\n",
    "    pizza_types, left_on=\"pizza_type_id_x\", right_on=\"pizza_type_id\"\n",
    ")\n",
    "\n",
    "# Now group by pizza name to find weakest individual pizzas\n",
    "sales_by_pizza = orders_with_type.groupby(\"name\")[\"quantity\"].sum().sort_values()\n",
    "\n",
    "print(\"Weakest Individual Pizzas (Lowest Sales):\")\n",
    "print(sales_by_pizza.head(10))  # bottom 10 pizzas\n"
   ]
  },
  {
   "cell_type": "code",
   "execution_count": null,
   "id": "7dc841c5-e7db-400f-99c1-6879f9086e67",
   "metadata": {},
   "outputs": [],
   "source": []
  },
  {
   "cell_type": "code",
   "execution_count": null,
   "id": "13ab67a9-7640-4cb2-b2a6-43bfdf7bd918",
   "metadata": {},
   "outputs": [],
   "source": []
  }
 ],
 "metadata": {
  "kernelspec": {
   "display_name": "Python 3 (ipykernel)",
   "language": "python",
   "name": "python3"
  },
  "language_info": {
   "codemirror_mode": {
    "name": "ipython",
    "version": 3
   },
   "file_extension": ".py",
   "mimetype": "text/x-python",
   "name": "python",
   "nbconvert_exporter": "python",
   "pygments_lexer": "ipython3",
   "version": "3.11.7"
  },
  "widgets": {
   "application/vnd.jupyter.widget-state+json": {
    "state": {},
    "version_major": 2,
    "version_minor": 0
   }
  }
 },
 "nbformat": 4,
 "nbformat_minor": 5
}
